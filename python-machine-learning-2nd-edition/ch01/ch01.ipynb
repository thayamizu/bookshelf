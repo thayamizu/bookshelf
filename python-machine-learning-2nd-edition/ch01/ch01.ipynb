{
 "metadata": {
  "language_info": {
   "codemirror_mode": {
    "name": "ipython",
    "version": 3
   },
   "file_extension": ".py",
   "mimetype": "text/x-python",
   "name": "python",
   "nbconvert_exporter": "python",
   "pygments_lexer": "ipython3",
   "version": "3.8.5-final"
  },
  "orig_nbformat": 2,
  "kernelspec": {
   "name": "Python 3.8.5 64-bit",
   "display_name": "Python 3.8.5 64-bit",
   "metadata": {
    "interpreter": {
     "hash": "1ee38ef4a5a9feb55287fd749643f13d043cb0a7addaab2a9c224cbe137c0062"
    }
   }
  }
 },
 "nbformat": 4,
 "nbformat_minor": 2,
 "cells": [
  {
   "source": [
    "## 1. 「データから学習する能力」をコンピュータに与える\n",
    "第1章では，機械学習の主な概念と種類についての解説"
   ],
   "cell_type": "markdown",
   "metadata": {}
  },
  {
   "source": [
    "1.1 は人工知能がどのような分野で発達し，使用されてきたかを，俯瞰した解説になる．特筆すべきことはとくになし．"
   ],
   "cell_type": "markdown",
   "metadata": {}
  },
  {
   "source": [
    "1.2 では，機械学習の大きな手法のくくりとして，`教師あり学習`・`教師なし学習`・`教科学習`の概念の概略が述べられている．詳細は2章以降に続くので，ここでは掘り下げない．\n",
    "\n"
   ],
   "cell_type": "markdown",
   "metadata": {}
  },
  {
   "source": [
    "1.3 は，本書における基本用語と表記法についての説明である．省略する．"
   ],
   "cell_type": "markdown",
   "metadata": {}
  },
  {
   "source": [
    "1.4 では，機械学習システムを構築する際のロードマップが示されている．重要なのは，\n",
    "\n",
    "1. 前処理\n",
    "1. 予測モデルのトレーニングと選択\n",
    "\n",
    "多くの機械学習アルゴリズムでは，特徴量の尺度などが統一されていることを要求するので前処理は非常に重要なタスクになる．また，タスクを特定しなければ分類モデルに優劣はないため，予測モデルをトレーニングして選択するには，いくつかのアルゴリズムの性能比較が重要になってくる．\n"
   ],
   "cell_type": "markdown",
   "metadata": {}
  },
  {
   "source": [
    "1.5 は，環境構築の説明．とりあえず，anacondaを入れておけば一通りそろう．"
   ],
   "cell_type": "markdown",
   "metadata": {}
  },
  {
   "cell_type": "code",
   "execution_count": null,
   "metadata": {},
   "outputs": [],
   "source": []
  }
 ]
}