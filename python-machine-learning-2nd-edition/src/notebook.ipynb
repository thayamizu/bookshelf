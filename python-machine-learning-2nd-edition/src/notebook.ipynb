{
 "metadata": {
  "language_info": {
   "codemirror_mode": {
    "name": "ipython",
    "version": 3
   },
   "file_extension": ".py",
   "mimetype": "text/x-python",
   "name": "python",
   "nbconvert_exporter": "python",
   "pygments_lexer": "ipython3",
   "version": "3.8.3-final"
  },
  "orig_nbformat": 2,
  "kernelspec": {
   "name": "python3",
   "display_name": "Python 3.8.3 64-bit ('base': conda)",
   "metadata": {
    "interpreter": {
     "hash": "f07d64cb25897d2a717922abbda17d930b535feaa5b5c318b9ef3740d0ad2970"
    }
   }
  }
 },
 "nbformat": 4,
 "nbformat_minor": 2,
 "cells": [
  {
   "source": [
    "## 1. 「データから学習する能力」をコンピュータに与える\n",
    "第1章では，機械学習の主な概念と種類についての解説"
   ],
   "cell_type": "markdown",
   "metadata": {}
  },
  {
   "source": [
    "1.1 は人工知能がどのような分野で発達し，使用されてきたかを，俯瞰した解説になる．特筆すべきことはとくになし．"
   ],
   "cell_type": "markdown",
   "metadata": {}
  },
  {
   "source": [
    "1.2 では，機械学習の大きな手法のくくりとして，`教師あり学習`・`教師なし学習`・`教科学習`の概念の概略が述べられている．詳細は2章以降に続くので，ここでは掘り下げない．\n",
    "\n"
   ],
   "cell_type": "markdown",
   "metadata": {}
  },
  {
   "source": [
    "1.3 は，本書における基本用語と表記法についての説明である．省略する．"
   ],
   "cell_type": "markdown",
   "metadata": {}
  },
  {
   "source": [
    "1.4 では，機械学習システムを構築する際のロードマップが示されている．重要なのは，\n",
    "\n",
    "1. 前処理\n",
    "1. 予測モデルのトレーニングと選択\n",
    "\n",
    "多くの機械学習アルゴリズムでは，特徴量の尺度などが統一されていることを要求するので前処理は非常に重要なタスクになる．また，タスクを特定しなければ分類モデルに優劣はないため，予測モデルをトレーニングして選択するには，いくつかのアルゴリズムの性能比較が重要になってくる．\n"
   ],
   "cell_type": "markdown",
   "metadata": {}
  },
  {
   "source": [
    "1.5 は，環境構築の説明．とりあえず，anacondaを入れておけば一通りそろう．"
   ],
   "cell_type": "markdown",
   "metadata": {}
  },
  {
   "source": [
    "## 2. 分類問題 - 単純な機械学習アルゴリズムのトレーニング\n",
    "\n",
    "本章では、パーセプトロンとADALINEの2つの分類問題に適用する。パーセプトロンを段階的に実装し、Irisデータセットの品種分類を行う"
   ],
   "cell_type": "markdown",
   "metadata": {}
  },
  {
   "source": [
    "### 2.1人工ニューロン\n",
    "MCPニューロンの概念の説明については、読み流す。\n",
    "\n",
    "#### 2.1.1人工ニューロンの正式な定義\n",
    "人工ニューロンを二値分類タスクとして捉えると決定関数$\\theta{(z)}$を定義できる。この関数はある入力$W$に対応する重みベクトル$X$の線形結合$z$を受け取る。\n",
    "\n",
    "$z$は総入力である。\n",
    "\n",
    "$$$\n",
    "z = \\sum_{i=0}^m w_ix_i = w^Tx\n",
    "$$$\n",
    "\n",
    "$$$\n",
    "  W = \\left(\n",
    "    \\begin{array}{c}\n",
    "      w_1 \\\\\n",
    "      ... \\\\\n",
    "      w_n\n",
    "    \\end{array}\n",
    "  \\right), \n",
    "  X=\\left(\n",
    "    \\begin{array}{c}\n",
    "      x_1 \\\\\n",
    "      ... \\\\\n",
    "      x_n\n",
    "    \\end{array}\n",
    "  \\right)\n",
    "$$$\n",
    "\n",
    "ここでサンプル$x^{(i)}$に対応する総入力$z$が指定された閾値$\\theta$より大きい場合は1のクラスを予測し、それ以外の場合は-1のクラスを予測する。\n",
    "\n",
    "パーセプトロンのアルゴリズムでは、決定関数は$\\psi{(\\cdot)}$は一種のステップ関数として働く\n",
    "\n",
    "\n",
    "$$$\n",
    "  \\theta{(z)} = \\left\\{ \\begin{array}{ll}\n",
    "    1 & (n \\geq 0) \\\\\n",
    "    -1 & (n < 0)\n",
    "  \\end{array} \\right.\n",
    "$$$\n"
   ],
   "cell_type": "markdown",
   "metadata": {}
  },
  {
   "source": [
    "機械学習の文献では、負のしきい値のことを __バイアスユニット__ と呼ぶ"
   ],
   "cell_type": "markdown",
   "metadata": {}
  }
 ]
}